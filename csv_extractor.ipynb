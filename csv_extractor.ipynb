{
 "cells": [
  {
   "cell_type": "code",
   "execution_count": 29,
   "id": "58b9ddc5",
   "metadata": {},
   "outputs": [],
   "source": [
    "import requests\n",
    "from bs4 import BeautifulSoup\n",
    "import csv\n",
    "from selenium import webdriver\n",
    "import time\n",
    "import re\n",
    "import pandas as pd\n",
    "from datetime import datetime"
   ]
  },
  {
   "cell_type": "markdown",
   "id": "cbc1c546",
   "metadata": {},
   "source": [
    "For first link, find the match by clicking on:\n",
    "https://www.cricket.com/series/4554/indian-premier-league-2024/matches\n",
    "\n",
    "For second link, find the match by clicking on:\n",
    "https://www.espncricinfo.com/series/indian-premier-league-2024-1410320/match-schedule-fixtures-and-results\n"
   ]
  },
  {
   "cell_type": "code",
   "execution_count": 99,
   "id": "da64f3e1",
   "metadata": {},
   "outputs": [],
   "source": [
    "matchid=0 #temp\n",
    "crcom = f\"https://www.cricket.com/live-score/240682/commentary/mi-vs-rcb-eliminator-women-s-premier-league-2024\"\n",
    "espn = f\"https://www.espncricinfo.com/series/women-s-premier-league-2023-24-1411373/mumbai-indians-women-vs-royal-challengers-bangalore-women-eliminator-1417736/full-scorecard\""
   ]
  },
  {
   "cell_type": "code",
   "execution_count": 97,
   "id": "215f9111",
   "metadata": {},
   "outputs": [
    {
     "name": "stdout",
     "output_type": "stream",
     "text": [
      "Paste cricket.com link here:https://www.cricket.com/live-score/237771/match-info/csk-vs-rcb-match-1-indian-premier-league-2024\n",
      "Paste espncricinfo.com link here:https://www.espncricinfo.com/series/indian-premier-league-2024-1410320/chennai-super-kings-vs-royal-challengers-bangalore-1st-match-1422119/live-cricket-score\n"
     ]
    }
   ],
   "source": [
    "### URL PASTE ZONE ###\n",
    "input1=input('Paste cricket.com link here:')\n",
    "crcom=f\"{input1}\"\n",
    "input2=input('Paste espncricinfo.com link here:')\n",
    "espn=f\"{input2}\""
   ]
  },
  {
   "cell_type": "code",
   "execution_count": 100,
   "id": "2183fa1e",
   "metadata": {},
   "outputs": [],
   "source": [
    "matchid=0 #temp\n",
    "# Set up the WebDriver (you need to have the appropriate WebDriver installed, like chromedriver or geckodriver)\n",
    "driver = webdriver.Chrome()\n",
    "\n",
    "# Navigate to the URL\n",
    "driver.get(crcom)\n",
    "\n",
    "# Scroll the page to the bottom\n",
    "last_height = driver.execute_script(\"return document.body.scrollHeight\")\n",
    "\n",
    "while True:\n",
    "    driver.execute_script(\"window.scrollTo(0, document.body.scrollHeight);\")\n",
    "    time.sleep(10)  # Add a delay to let content load\n",
    "    new_height = driver.execute_script(\"return document.body.scrollHeight\")\n",
    "\n",
    "    if new_height == last_height:\n",
    "        break\n",
    "\n",
    "    last_height = new_height\n",
    "\n",
    "# Get the HTML source after scrolling\n",
    "html_source = driver.page_source\n",
    "\n",
    "# Close the WebDriver\n",
    "driver.quit()\n",
    "\n",
    "# Parse the HTML using BeautifulSoup\n",
    "soup = BeautifulSoup(html_source, 'html.parser')"
   ]
  },
  {
   "cell_type": "code",
   "execution_count": 5,
   "id": "b7406b02",
   "metadata": {},
   "outputs": [],
   "source": [
    "driver2 = webdriver.Chrome()\n",
    "\n",
    "# Navigate to the URL\n",
    "driver2.get(espn)\n",
    "\n",
    "# Scroll the page to the bottom\n",
    "last_height = driver2.execute_script(\"return document.body.scrollHeight\")\n",
    "\n",
    "while True:\n",
    "    driver2.execute_script(\"window.scrollTo(0, document.body.scrollHeight);\")\n",
    "    time.sleep(10)  # Add a delay to let content load\n",
    "    new_height = driver2.execute_script(\"return document.body.scrollHeight\")\n",
    "\n",
    "    if new_height == last_height:\n",
    "        break\n",
    "\n",
    "    last_height = new_height\n",
    "\n",
    "# Get the HTML source after scrolling\n",
    "html_source = driver2.page_source\n",
    "\n",
    "# Close the WebDriver\n",
    "driver2.quit()\n",
    "\n",
    "soup2 = BeautifulSoup(html_source, 'html.parser')"
   ]
  },
  {
   "cell_type": "code",
   "execution_count": 101,
   "id": "fd909d2a",
   "metadata": {},
   "outputs": [
    {
     "name": "stdout",
     "output_type": "stream",
     "text": [
      "['Eliminator (N)', ' Delhi', ' March 15', ' 2024', \" Women's Premier League\"]\n",
      "15-03-2024\n"
     ]
    }
   ],
   "source": [
    "### MATCHID AND DATE ###\n",
    "#***UNCOMMENT FOR IPL***\n",
    "\n",
    "# mtchid = soup2.find_all(\"div\", class_=\"ds-text-tight-xs ds-truncate ds-text-typo-mid3 ds-mb-1\")\n",
    "# mtchidr = [tag.text.strip() for tag in mtchid]\n",
    "# mtch=mtchidr[0].split(',')\n",
    "# m=mtch[0]\n",
    "\n",
    "# pattern = r'\\d+'\n",
    "# matches = re.findall(pattern, m)\n",
    "\n",
    "# num = int(matches[0])\n",
    "# if num < 10:\n",
    "#     num = f\"0{num}\"\n",
    "# print(\"Numeric part:\", num)\n",
    "\n",
    "# print(mtch)\n",
    "# mtchidf = num\n",
    "# matchid = int(\"2024\"+str(mtchidf))\n",
    "# print(matchid)\n",
    "datf=mtch[2]\n",
    "\n",
    "default_year = \"2024\"  # You can change this to any default year you want\n",
    "date_object = datetime.strptime(datf.strip() + \" \" + default_year, \"%B %d %Y\")\n",
    "date = date_object.strftime(\"%d-%m-%Y\")\n",
    "\n",
    "print(date)"
   ]
  },
  {
   "cell_type": "code",
   "execution_count": 32,
   "id": "56ddc343",
   "metadata": {},
   "outputs": [
    {
     "name": "stdout",
     "output_type": "stream",
     "text": [
      "['RCB', 'MI', 'RCB', 'MI']\n"
     ]
    }
   ],
   "source": [
    "# <p class=\"lable-light dark:lable text-sm min-w-[25%]\">MI</p>\n",
    "teams = soup.find_all(\"p\", class_=[\"lable-light dark:lable text-sm min-w-[25%]\"])\n",
    "teamorder = [tag.get_text() for tag in teams]\n",
    "print(teamorder)"
   ]
  },
  {
   "cell_type": "code",
   "execution_count": 33,
   "id": "dc1453ac",
   "metadata": {},
   "outputs": [
    {
     "name": "stdout",
     "output_type": "stream",
     "text": [
      "243\n"
     ]
    }
   ],
   "source": [
    "#Delivery data\n",
    "d = soup.find_all(\"p\", class_=[\"font-medium text-black dark:text-white text-xs lg:text-sm pt-1\"])\n",
    "deli = [float(tag.get_text()) for tag in d]\n",
    "deli.reverse()\n",
    "print(len(deli))"
   ]
  },
  {
   "cell_type": "code",
   "execution_count": 34,
   "id": "c988d3ee",
   "metadata": {},
   "outputs": [
    {
     "name": "stdout",
     "output_type": "stream",
     "text": [
      "243\n"
     ]
    }
   ],
   "source": [
    "#res data\n",
    "v = soup.find_all(\"div\", class_=\"flex flex-col bg-lightbg dark:bg-gray rounded items-center\")\n",
    "r = [tag.find('p').text.strip() for tag in v]\n",
    "r.reverse()\n",
    "print(len(r))"
   ]
  },
  {
   "cell_type": "code",
   "execution_count": 10,
   "id": "d90b3006",
   "metadata": {},
   "outputs": [
    {
     "name": "stdout",
     "output_type": "stream",
     "text": [
      "486\n",
      "243\n",
      "243\n"
     ]
    }
   ],
   "source": [
    "#Player name data\n",
    "n = soup.find_all(\"span\", class_= \"font-semibold\")\n",
    "names = [tag.get_text() for tag in n]\n",
    "names.reverse()\n",
    "names = [element.strip(' ,') for element in names]\n",
    "print(len(names))\n",
    "batters = names[::2]  # Items at even indices\n",
    "bowlers = names[1::2]\n",
    "print(len(batters))\n",
    "print(len(bowlers))"
   ]
  },
  {
   "cell_type": "code",
   "execution_count": 11,
   "id": "15a7d369",
   "metadata": {},
   "outputs": [
    {
     "name": "stdout",
     "output_type": "stream",
     "text": [
      "243\n"
     ]
    }
   ],
   "source": [
    "#Combining ball-by-ball data\n",
    "result_list = list(zip(deli, r, batters, bowlers))\n",
    "print(len(result_list))"
   ]
  },
  {
   "cell_type": "code",
   "execution_count": 12,
   "id": "3748b801",
   "metadata": {},
   "outputs": [],
   "source": [
    "# # IMPACT PLAYER ###\n",
    "#***UNCOMMENT FOR IPL***\n",
    "\n",
    "\n",
    "# ipw = soup2.find_all(\"div\", class_=[\"ds-text-tight-s ds-font-regular ds-pb-2 last:ds-pb-0\"])\n",
    "# print(ipw)\n",
    "# impactp = [tag.get_text() for tag in ipw]\n",
    "# llist=impactp[0]+impactp[1]\n",
    "# llistl=llist.split(\"\\xa0\")\n",
    "# dd= [x[:-4] for x in llistl if x[-4:]==\" in,\"]\n",
    "dd = ['Alyssa Healy','Titas Sadhu']\n",
    "# print(dd)"
   ]
  },
  {
   "cell_type": "code",
   "execution_count": 13,
   "id": "4a8288bf",
   "metadata": {},
   "outputs": [
    {
     "name": "stdout",
     "output_type": "stream",
     "text": [
      "Arun Jaitley Stadium, Delhi\n",
      "[('Smriti Mandhana', 'c Ismail b Nat Sciver-Brunt'), ('Sophie Devine', ' b Matthews'), ('Ellyse Perry', 'c Nat Sciver-Brunt b Ishaque'), ('Disha Kasat', 'c Vastrakar b Ishaque'), ('Richa Ghosh', 'c Nat Sciver-Brunt b Matthews'), ('Sophie Molineux', ' b Nat Sciver-Brunt'), ('Georgia Wareham', 'not out '), ('Shreyanka Patil', 'not out ')]\n",
      "[('Yastika Bhatia', ' b Perry'), ('Hayley Matthews', 'c Wareham b Patil'), ('Nat Sciver-Brunt', ' b Wareham'), ('Harmanpreet Kaur', 'c Devine b Patil'), ('Amelia Kerr', 'not out '), ('Sajeevan Sajana', 'st †Ghosh b Molineux'), ('Pooja Vastrakar', 'st †Ghosh b Sobhana'), ('Amanjot Kaur', 'not out ')]\n"
     ]
    }
   ],
   "source": [
    "### BATTER AND DISMISSAL TYPE###\n",
    "tbody = soup2.find_all(\"tbody\")\n",
    "first = None\n",
    "second = None\n",
    "\n",
    "for i, tbody in enumerate(tbody, 1):\n",
    "    p_tags_inside_container = tbody.find_all('tr')\n",
    "    p_texts_list = []\n",
    "    \n",
    "    for p_tag in p_tags_inside_container:\n",
    "        p_texts_list.append(p_tag.text)\n",
    "    if i == 1:\n",
    "        first = p_texts_list\n",
    "    elif i == 3:\n",
    "        second = p_texts_list\n",
    "# print(first)\n",
    "# print(second)\n",
    "info=p_texts_list\n",
    "\n",
    "venue=info[0]\n",
    "print(venue)\n",
    "\n",
    "new_list = []\n",
    "for element in first:\n",
    "    new_list.append(element)\n",
    "    if \"extras\" in element.lower():\n",
    "        break\n",
    "new_list=new_list[:-1]\n",
    "\n",
    "string_to_remove = '\\xa0'\n",
    "trimmed_list = []\n",
    "\n",
    "for index, element in enumerate(new_list):\n",
    "    if index % 2 == 0 and string_to_remove in element:\n",
    "        trimmed_element = element.split(string_to_remove, 1)[0]\n",
    "        trimmed_list.append(trimmed_element)\n",
    "    else:\n",
    "        trimmed_list.append(element)\n",
    "\n",
    "firstinnwicket = [(trimmed_list[i], trimmed_list[i + 1]) for i in range(0, len(trimmed_list), 2)]\n",
    "print(firstinnwicket)\n",
    "\n",
    "new_list = []\n",
    "for element in second:\n",
    "    new_list.append(element)\n",
    "    if \"extras\" in element.lower():\n",
    "        break\n",
    "new_list=new_list[:-1]\n",
    "\n",
    "string_to_remove = '\\xa0'\n",
    "trimmed_list = []\n",
    "\n",
    "for index, element in enumerate(new_list):\n",
    "    if index % 2 == 0 and string_to_remove in element:\n",
    "        trimmed_element = element.split(string_to_remove, 1)[0]\n",
    "        trimmed_list.append(trimmed_element)\n",
    "    else:\n",
    "        trimmed_list.append(element)\n",
    "\n",
    "secondinnwicket = [(trimmed_list[i], trimmed_list[i + 1]) for i in range(0, len(trimmed_list), 2)]\n",
    "print(secondinnwicket)"
   ]
  },
  {
   "cell_type": "code",
   "execution_count": 14,
   "id": "bf309fb3",
   "metadata": {},
   "outputs": [
    {
     "name": "stdout",
     "output_type": "stream",
     "text": [
      "The data has been successfully written to 0.csv.\n"
     ]
    }
   ],
   "source": [
    "data = result_list\n",
    "innings=0\n",
    "batterdismissed=None\n",
    "# Define the header for your CSV file\n",
    "header = ['matchid','date', 'venue' ,'innings', 'over', 'delivery', 'battingteam', 'bowlingteam', 'Column2', 'res', 'impbat', 'batters', 'bowlers', 'impbowl', 'wide', 'extras', 'noball', 'legbye', 'bye', 'batterrun', 'wicket','batterdismissed']\n",
    "# Specify the name of your CSV file\n",
    "csv_file = f\"{matchid}.csv\"\n",
    "\n",
    "# Write data to CSV file\n",
    "with open(csv_file, 'w', newline='') as file:\n",
    "    writer = csv.writer(file)\n",
    "    \n",
    "    # Write the header\n",
    "    writer.writerow(header)\n",
    "    \n",
    "    # Initialize variables to store previous values\n",
    "    prev_delivery = None\n",
    "    prev_data = None\n",
    "    # Write the data\n",
    "    for tuple_data in data:\n",
    "        delivery, column2, batters, bowlers = tuple_data\n",
    "        res = column2\n",
    "        wide = 1 if 'wd' in column2 else 0\n",
    "        noball = 1 if 'nb' in column2 else 0\n",
    "        legbye = 1 if 'lb' in column2 else 0\n",
    "        bye = 1 if 'b' in column2 and 'lb' not in column2 else 0\n",
    "        batterrun = int(column2) if column2.isdigit() else 0\n",
    "        wicket = 1 if 'W' in column2 else 0\n",
    "        impbat = 1 if batters in dd else 0\n",
    "        impbowl =1 if bowlers in dd else 0\n",
    "        if delivery == 0.1:\n",
    "            innings+=1\n",
    "        if innings >2:\n",
    "            innings=2\n",
    "        if innings == 1:\n",
    "            battingteam = teamorder[0]\n",
    "            bowlingteam = teamorder[1]\n",
    "        elif innings == 2:\n",
    "            battingteam = teamorder[1]\n",
    "            bowlingteam = teamorder[0]\n",
    "        over = int(delivery)+1\n",
    "            \n",
    "        if noball == 1:\n",
    "                delivery = str(delivery) + '*'\n",
    "        # Calculate the value for the \"extras\" column\n",
    "        if 'wd' in column2:\n",
    "            numeric_part = ''.join(filter(str.isdigit, column2))\n",
    "            extras = 1 + int(numeric_part) if numeric_part.isdigit() else 1\n",
    "        elif 'nb' in column2 in column2:\n",
    "            numeric_part = ''.join(filter(str.isdigit, column2))\n",
    "            batterrun = int(numeric_part) if numeric_part.isdigit() else 1\n",
    "        elif 'lb' in column2 or 'b' in column2:\n",
    "            numeric_part = ''.join(filter(str.isdigit, column2))\n",
    "            extras = int(numeric_part) if numeric_part.isdigit() else 0\n",
    "        else:\n",
    "            extras = 0\n",
    "        if delivery == prev_delivery:\n",
    "            # Accumulate data from previous row\n",
    "            wide += prev_data[14]\n",
    "            extras += prev_data[15]\n",
    "            noball += prev_data[16]\n",
    "            legbye += prev_data[17]\n",
    "            batterrun += prev_data[18]\n",
    "            wicket += prev_data[19]\n",
    "        if 'wd' not in column2:\n",
    "            writer.writerow([matchid, date, venue, innings, over, delivery, battingteam, bowlingteam, column2, res, impbat, batters, bowlers, impbowl, wide, extras, noball, legbye, bye, batterrun, wicket, batterdismissed])\n",
    "\n",
    "        # Store current values as previous values for the next iteration\n",
    "        prev_delivery = delivery\n",
    "        prev_data = [matchid, date, venue, innings, over, delivery, battingteam, bowlingteam, column2, res, impbat, batters, bowlers, impbowl, wide, extras, noball, legbye, bye, batterrun, wicket, batterdismissed]\n",
    "\n",
    "print(f'The data has been successfully written to {csv_file}.')"
   ]
  },
  {
   "cell_type": "code",
   "execution_count": 15,
   "id": "34b8aedc",
   "metadata": {
    "scrolled": true
   },
   "outputs": [
    {
     "name": "stdout",
     "output_type": "stream",
     "text": [
      "[('Sophie Devine', 1.6), ('Smriti Mandhana', 2.2), ('Disha Kasat', 3.4), ('Richa Ghosh', 9.1), ('Sophie Molineux', 14.6), ('Ellyse Perry', 19.2)]\n",
      "[('Hayley Matthews', 3.5), ('Yastika Bhatia', 7.6), ('Nat Sciver-Brunt', 10.4), ('Harmanpreet Kaur', 17.6), ('Sajeevan Sajana', 18.5), ('Pooja Vastrakar', 19.4)]\n"
     ]
    }
   ],
   "source": [
    "###BATTER AND DISMISSAL DELIVERY###\n",
    "\n",
    "split1 = re.split(r',\\s*(?![^()]*\\))', first[-1])\n",
    "fow1 = []\n",
    "for item in split1:\n",
    "    match = re.search(r'\\((.*?)\\)', item)\n",
    "    if match:\n",
    "        content_within_parentheses = match.group(1)\n",
    "        name, number_str = map(str.strip, content_within_parentheses.split(', '))\n",
    "        number = float(number_str[:-3]) if '.' in number_str[:-3] else int(number_str[:-3])\n",
    "        fow1.append((name, number))\n",
    "        \n",
    "split2 = re.split(r',\\s*(?![^()]*\\))', second[-1])\n",
    "fow2 = []\n",
    "for item in split2:\n",
    "    match = re.search(r'\\((.*?)\\)', item)\n",
    "    if match:\n",
    "        content_within_parentheses = match.group(1)\n",
    "        name, number_str = map(str.strip, content_within_parentheses.split(', '))\n",
    "        number = float(number_str[:-3]) if '.' in number_str[:-3] else int(number_str[:-3])\n",
    "        fow2.append((name, number))\n",
    "print(fow1)\n",
    "print(fow2)"
   ]
  },
  {
   "cell_type": "code",
   "execution_count": 23,
   "id": "d68e64a3",
   "metadata": {},
   "outputs": [],
   "source": [
    "df = pd.read_csv(f'{matchid}.csv')\n",
    "\n",
    "for tuple_item in fow1:\n",
    "    tuple_batter, tuple_delivery = tuple_item\n",
    "    \n",
    "    condition = (df['delivery'] == str(tuple_delivery)) & (df['innings'] == 1) & (df['wicket'] == 1)\n",
    "    df.loc[condition, ['batterdismissed']] = [tuple_batter]\n",
    "\n",
    "for tuple_item in fow2:\n",
    "    tuple_batter, tuple_delivery = tuple_item\n",
    "    \n",
    "    condition = (df['delivery'] == str(tuple_delivery)) & (df['innings'] == 2) & (df['wicket'] == 1)\n",
    "    df.loc[condition, ['batterdismissed']] = [tuple_batter]\n",
    "df.to_csv(f'{matchid}.csv', index=False)"
   ]
  },
  {
   "cell_type": "code",
   "execution_count": 17,
   "id": "37c173e5",
   "metadata": {},
   "outputs": [
    {
     "name": "stdout",
     "output_type": "stream",
     "text": [
      "[('Smriti Mandhana', 'c Ismail b Nat Sciver-Brunt', 'Caught Out'), ('Sophie Devine', ' b Matthews', 'Bowled'), ('Ellyse Perry', 'c Nat Sciver-Brunt b Ishaque', 'Caught Out'), ('Disha Kasat', 'c Vastrakar b Ishaque', 'Caught Out'), ('Richa Ghosh', 'c Nat Sciver-Brunt b Matthews', 'Caught Out'), ('Sophie Molineux', ' b Nat Sciver-Brunt', 'Bowled'), ('Georgia Wareham', 'not out ', 'Not Out'), ('Shreyanka Patil', 'not out ', 'Not Out')]\n",
      "[('Yastika Bhatia', ' b Perry', 'Bowled'), ('Hayley Matthews', 'c Wareham b Patil', 'Caught Out'), ('Nat Sciver-Brunt', ' b Wareham', 'Bowled'), ('Harmanpreet Kaur', 'c Devine b Patil', 'Caught Out'), ('Amelia Kerr', 'not out ', 'Not Out'), ('Sajeevan Sajana', 'st †Ghosh b Molineux', 'Stumped Out'), ('Pooja Vastrakar', 'st †Ghosh b Sobhana', 'Stumped Out'), ('Amanjot Kaur', 'not out ', 'Not Out')]\n"
     ]
    }
   ],
   "source": [
    "### DISMISSAL TYPE###\n",
    "wiclist1=[]\n",
    "for tuple_item in firstinnwicket:\n",
    "\n",
    "    tuple_batter, tuple_dismissal = tuple_item\n",
    "    if 'c ' in tuple_dismissal and 'b ' in tuple_dismissal:\n",
    "        wic='Caught Out'\n",
    "    elif 'st ' in tuple_dismissal and 'b ' in tuple_dismissal and 'c ' not in tuple_dismissal:\n",
    "        wic='Stumped Out'\n",
    "    elif 'b ' in tuple_dismissal and 'c ' not in tuple_dismissal and 'st ' not in tuple_dismissal:\n",
    "        wic='Bowled'\n",
    "    elif 'run out' in tuple_dismissal:\n",
    "        wic='Run Out'\n",
    "    elif 'lbw ' in tuple_dismissal:\n",
    "        wic='LBW'\n",
    "    elif 'hit wicket' in tuple_dismissal:\n",
    "        wic='Hit Wicket'\n",
    "    else:\n",
    "        wic='Not Out'\n",
    "    tuple_item = tuple_item + (wic,)\n",
    "    wiclist1.append(tuple_item)\n",
    "print(wiclist1)\n",
    "\n",
    "wiclist2=[]\n",
    "for tuple_item in secondinnwicket:\n",
    "\n",
    "    tuple_batter, tuple_dismissal = tuple_item\n",
    "    if 'c ' in tuple_dismissal and 'b ' in tuple_dismissal:\n",
    "        wic='Caught Out'\n",
    "    elif 'st ' in tuple_dismissal and 'b ' in tuple_dismissal and 'c ' not in tuple_dismissal:\n",
    "        wic='Stumped Out'\n",
    "    elif 'b ' in tuple_dismissal and 'c ' not in tuple_dismissal and 'st ' not in tuple_dismissal:\n",
    "        wic='Bowled'\n",
    "    elif 'run out (' in tuple_dismissal:\n",
    "        wic='Run Out'\n",
    "    elif 'lbw ' in tuple_dismissal:\n",
    "        wic='LBW'\n",
    "    elif 'hit wicket' in tuple_dismissal:\n",
    "        wic='Hit Wicket'\n",
    "    elif 'not out' :\n",
    "        wic='Not Out'\n",
    "    tuple_item = tuple_item + (wic,)\n",
    "    wiclist2.append(tuple_item)\n",
    "print(wiclist2)"
   ]
  },
  {
   "cell_type": "code",
   "execution_count": 24,
   "id": "1a821799",
   "metadata": {},
   "outputs": [],
   "source": [
    "df = pd.read_csv(f'{matchid}.csv')\n",
    "\n",
    "for tuple_item in wiclist1:\n",
    "    tuple_batter, tuple_dismissal, tuple_type = tuple_item\n",
    "    condition = (df['batterdismissed'] == str(tuple_batter)) & (df['innings'] == 1)\n",
    "    df.loc[condition, ['dismissaltype']] = [tuple_type]\n",
    "\n",
    "for tuple_item in wiclist2:\n",
    "    tuple_batter, tuple_delivery, tuple_type = tuple_item\n",
    "    condition = (df['batterdismissed'] == str(tuple_batter)) & (df['innings'] == 2)\n",
    "    df.loc[condition, ['dismissaltype']] = [tuple_type]\n",
    "    \n",
    "df.to_csv(f'{matchid}.csv', index=False)"
   ]
  },
  {
   "cell_type": "code",
   "execution_count": 35,
   "id": "87945e48",
   "metadata": {},
   "outputs": [
    {
     "name": "stdout",
     "output_type": "stream",
     "text": [
      "['Powerplay 1: Overs 0.1 - 6.0 (Mandatory - 34 runs, 3 wickets)', 'Strategic Timeout: Royal Challengers Bangalore Women - 47/3 in 8.0 overs (EA Perry 12, RM Ghosh 13)', 'Royal Challengers Bangalore Women: 50 runs in 9.5 overs (59 balls),  Extras 2', 'Strategic Timeout: Royal Challengers Bangalore Women - 90/5 in 16.0 overs (EA Perry 40, G Wareham 2)', 'Royal Challengers Bangalore Women: 100 runs in 16.4 overs (100 balls),  Extras 3', 'EA Perry: 50 off 40 balls (5 x 4, 1 x 6)']\n",
      "['Over 0.1: Review by Royal Challengers Bangalore Women (Bowling), Decision Challenged - Wicket, Umpire - Gayathri V, Batter - YH Bhatia (Struck down)', 'Powerplay 1: Overs 0.1 - 6.0 (Mandatory - 37 runs, 1 wicket)', 'Strategic Timeout: Mumbai Indians Women - 37/1 in 6.0 overs (YH Bhatia 16, Nat Sciver-Brunt 1)', 'Mumbai Indians Women: 50 runs in 7.5 overs (47 balls),  Extras 5', 'Over 9.2: Review by Mumbai Indians Women (Batting), Decision Challenged - Wide, Umpire - P Joshi, Batter - H Kaur (Upheld)', 'Strategic Timeout: Mumbai Indians Women - 93/3 in 15.0 overs (H Kaur 21, AC Kerr 8)', 'Mumbai Indians Women: 100 runs in 15.5 overs (96 balls),  Extras 7', '4th Wicket: 50 runs in 41 balls (H Kaur 28, AC Kerr 22, Ex 0)']\n",
      "[7.6, 15.6]\n",
      "[5.6, 14.6]\n"
     ]
    }
   ],
   "source": [
    "### MATCH FLOW ###\n",
    "divs_with_teams = soup2.find_all(\"div\", class_=[\"ds-mb-4\"])\n",
    "matchflow = []\n",
    "\n",
    "specific_team_soup = BeautifulSoup(str(divs_with_teams[6]), 'html.parser')\n",
    "\n",
    "ul_tags_for_specific_team = specific_team_soup.find_all(\"ul\", class_=[\"ds-text-tight-s\", \"ds-font-regular\", \"ds-list-disc\", \"ds-pt-2\", \"ds-px-4\", \"ds-mb-4\"])\n",
    "        \n",
    "current_list_variable = []\n",
    "for ul_tag in ul_tags_for_specific_team:\n",
    "    p_texts_list = [p_tag.text.strip() for p_tag in ul_tag.find_all(\"li\")]\n",
    "    current_list_variable.extend(p_texts_list)\n",
    "\n",
    "matchflow = current_list_variable\n",
    "\n",
    "first_innings = []\n",
    "second_innings = []\n",
    "\n",
    "current_innings = first_innings\n",
    "\n",
    "# Iterate through the data\n",
    "for element in matchflow:\n",
    "    if \"Innings Break\" in element:\n",
    "        current_innings = second_innings\n",
    "    current_innings.append(element)\n",
    "\n",
    "print(first_innings)\n",
    "second_innings = second_innings[1:]\n",
    "print(second_innings)\n",
    "\n",
    "timeout1=[]\n",
    "timeout2=[]\n",
    "for element in first_innings:\n",
    "    if 'Strategic Timeout:' in element:\n",
    "        match = re.search(r'(\\d+\\.\\d+) overs', element)\n",
    "        if match:\n",
    "            over_number = float(match.group(1))\n",
    "            if over_number.is_integer() and over_number > 0:\n",
    "                over_number -= 1\n",
    "                over_number += 0.6\n",
    "            timeout1.append(over_number)\n",
    "print(timeout1)\n",
    "for element in second_innings:\n",
    "    if 'Strategic Timeout:' in element:\n",
    "        match = re.search(r'(\\d+\\.\\d+) overs', element)\n",
    "        if match:\n",
    "            over_number = float(match.group(1))\n",
    "            if over_number.is_integer() and over_number > 0:\n",
    "                over_number -= 1\n",
    "                over_number += 0.6\n",
    "            timeout2.append(over_number)\n",
    "print(timeout2)\n",
    "df['total']=df.batterrun + df.extras\n",
    "df['score']=df.groupby(['innings']).total.cumsum()\n",
    "df['wicketfell']=df.groupby(['innings']).wicket.cumsum()\n",
    "df.to_csv(f'{matchid}.csv', index=False)"
   ]
  },
  {
   "cell_type": "code",
   "execution_count": 20,
   "id": "1ac22ad1",
   "metadata": {},
   "outputs": [],
   "source": [
    "df = pd.read_csv(f'{matchid}.csv')\n",
    "for i in timeout1:\n",
    "    condition = (df['delivery'] == str(i)) & (df['innings'] == 1)\n",
    "    df.loc[condition, ['strategictimeout']] = 1\n",
    "    df.loc[~condition, ['strategictimeout']] = 0\n",
    "for i in timeout2:\n",
    "    condition = (df['delivery'] == str(i)) & (df['innings'] == 2)\n",
    "    df.loc[condition, ['strategictimeout']] = 1\n",
    "    df.loc[~condition, ['strategictimeout']] = 0\n",
    "df.to_csv(f'{matchid}.csv', index=False)"
   ]
  },
  {
   "cell_type": "code",
   "execution_count": 21,
   "id": "a5cc12d4",
   "metadata": {},
   "outputs": [
    {
     "name": "stdout",
     "output_type": "stream",
     "text": [
      "     matchid        date                        venue  innings  over delivery  \\\n",
      "0          0  15-03-2024  Arun Jaitley Stadium, Delhi        1     1      0.1   \n",
      "1          0  15-03-2024  Arun Jaitley Stadium, Delhi        1     1      0.2   \n",
      "2          0  15-03-2024  Arun Jaitley Stadium, Delhi        1     1      0.3   \n",
      "3          0  15-03-2024  Arun Jaitley Stadium, Delhi        1     1      0.4   \n",
      "4          0  15-03-2024  Arun Jaitley Stadium, Delhi        1     1      0.5   \n",
      "..       ...         ...                          ...      ...   ...      ...   \n",
      "236        0  15-03-2024  Arun Jaitley Stadium, Delhi        2    20     19.2   \n",
      "237        0  15-03-2024  Arun Jaitley Stadium, Delhi        2    20     19.3   \n",
      "238        0  15-03-2024  Arun Jaitley Stadium, Delhi        2    20     19.4   \n",
      "239        0  15-03-2024  Arun Jaitley Stadium, Delhi        2    20     19.5   \n",
      "240        0  15-03-2024  Arun Jaitley Stadium, Delhi        2    20     19.6   \n",
      "\n",
      "    battingteam bowlingteam Column2 res  ...  batterrun wicket  \\\n",
      "0           RCB          MI       4   4  ...          4      0   \n",
      "1           RCB          MI       1   1  ...          1      0   \n",
      "2           RCB          MI       4   4  ...          4      0   \n",
      "3           RCB          MI       4   4  ...          4      0   \n",
      "4           RCB          MI       1   1  ...          1      0   \n",
      "..          ...         ...     ...  ..  ...        ...    ...   \n",
      "236          MI         RCB       1   1  ...          1      0   \n",
      "237          MI         RCB       2   2  ...          2      0   \n",
      "238          MI         RCB       W   W  ...          0      1   \n",
      "239          MI         RCB       1   1  ...          1      0   \n",
      "240          MI         RCB       1   1  ...          1      0   \n",
      "\n",
      "    batterdismissed  dismissaltype  total  score  wicketfell  \\\n",
      "0               NaN            NaN      4      4           0   \n",
      "1               NaN            NaN      1      5           0   \n",
      "2               NaN            NaN      4      9           0   \n",
      "3               NaN            NaN      4     13           0   \n",
      "4               NaN            NaN      1     14           0   \n",
      "..              ...            ...    ...    ...         ...   \n",
      "236             NaN            NaN      1    126           5   \n",
      "237             NaN            NaN      2    128           5   \n",
      "238             NaN            NaN      0    128           6   \n",
      "239             NaN            NaN      1    129           6   \n",
      "240             NaN            NaN      1    130           6   \n",
      "\n",
      "     strategictimeout  battingposition  bowlerwicket  \n",
      "0                 0.0                1          None  \n",
      "1                 0.0                1          None  \n",
      "2                 0.0                2          None  \n",
      "3                 0.0                2          None  \n",
      "4                 0.0                2          None  \n",
      "..                ...              ...           ...  \n",
      "236               0.0                5          None  \n",
      "237               0.0                7          None  \n",
      "238               0.0                7             1  \n",
      "239               0.0                8          None  \n",
      "240               0.0                5          None  \n",
      "\n",
      "[241 rows x 29 columns]\n"
     ]
    }
   ],
   "source": [
    "df =pd.read_csv(f'{matchid}.csv')\n",
    "df['battingposition'] = None\n",
    "\n",
    "# Iterating over rows of DataFrame and list of tuples\n",
    "for index, row in df.iterrows():\n",
    "    if row['innings'] == 1:  # Check if innings is equal to 1\n",
    "        for i, (player, _, _) in enumerate(wiclist1):\n",
    "            if i<=10:\n",
    "                if player == row['batters']:\n",
    "                    df.at[index, 'battingposition'] = i+1\n",
    "                    break\n",
    "\n",
    "# Displaying the DataFrame with the new column\n",
    "\n",
    "\n",
    "# Iterating over rows of DataFrame and list of tuples\n",
    "for index, row in df.iterrows():\n",
    "    if row['innings'] == 2:  # Check if innings is equal to 1\n",
    "        for i, (player, _, _) in enumerate(wiclist2):\n",
    "            if i<=10:\n",
    "                if player == row['batters']:\n",
    "                    df.at[index, 'battingposition'] = i+1\n",
    "                    break\n",
    "df['bowlerwicket'] = None\n",
    "condition= (df['dismissaltype'] != 'Run Out') & (df['wicket'] == 1)\n",
    "df.loc[condition,['bowlerwicket']] = 1\n",
    "# Displaying the DataFrame with the new column\n",
    "print(df)\n",
    "df.to_csv(f'{matchid}.csv', index= False)"
   ]
  },
  {
   "cell_type": "code",
   "execution_count": 102,
   "id": "7bf9a8af",
   "metadata": {},
   "outputs": [
    {
     "data": {
      "text/plain": [
       "Index(['matchid', 'date', 'venue', 'innings', 'over', 'delivery',\n",
       "       'battingteam', 'bowlingteam', 'Column2', 'res', 'impbat', 'batters',\n",
       "       'bowlers', 'impbowl', 'wide', 'extras', 'noball', 'legbye', 'bye',\n",
       "       'batterrun', 'wicket', 'batterdismissed', 'dismissaltype', 'total',\n",
       "       'score', 'wicketfell', 'strategictimeout', 'battingposition',\n",
       "       'bowlerwicket', 'powerplay'],\n",
       "      dtype='object')"
      ]
     },
     "execution_count": 102,
     "metadata": {},
     "output_type": "execute_result"
    }
   ],
   "source": [
    "df.columns"
   ]
  },
  {
   "cell_type": "code",
   "execution_count": 90,
   "id": "f6122854",
   "metadata": {},
   "outputs": [
    {
     "name": "stdout",
     "output_type": "stream",
     "text": [
      "[0]\n",
      "Powerplay 1: Overs 0.1 - 6.0 (Mandatory - 34 runs, 3 wickets)\n",
      "['0.1', '6.0']\n",
      "[1]\n",
      "Powerplay 1: Overs 0.1 - 6.0 (Mandatory - 37 runs, 1 wicket)\n",
      "['0.1', '6.0']\n"
     ]
    }
   ],
   "source": [
    "index1= []\n",
    "\n",
    "# Iterate through the list and check for 'Powerplay'\n",
    "for index, item in enumerate(first_innings):\n",
    "    if 'Powerplay' in item:\n",
    "        index1.append(index)\n",
    "\n",
    "print(index1)\n",
    "\n",
    "pp1=first_innings[index1[0]].strip()\n",
    "print(pp1)\n",
    "substring1 = re.search(r'Overs\\s(.*?)\\s\\(', pp1).group(1)\n",
    "split_result1 = substring1.split(' - ')\n",
    "\n",
    "print(split_result1)\n",
    "start_value1 = split_result1[0]\n",
    "end_value1 = split_result1[1]\n",
    "\n",
    "start_value1 = float(start_value1)\n",
    "end_value1 = float(end_value1)\n",
    "\n",
    "if start_value1.is_integer() and start_value1 > 0:\n",
    "    start_value1 -= 0.4\n",
    "if end_value1.is_integer() and end_value1 > 0:\n",
    "    end_value1 -= 0.4\n",
    "start_value1=int(start_value1)+1\n",
    "end_value1=int(end_value1)+1\n",
    "\n",
    "index2= []\n",
    "\n",
    "# Iterate through the list and check for 'Powerplay'\n",
    "for index, item in enumerate(second_innings):\n",
    "    if 'Powerplay' in item:\n",
    "        index2.append(index)\n",
    "\n",
    "print(index2)            \n",
    "pp2=second_innings[index2[0]].strip()\n",
    "print(pp2)\n",
    "substring2 = re.search(r'Overs\\s(.*?)\\s\\(', pp2).group(1)\n",
    "split_result2 = substring1.split(' - ')\n",
    "\n",
    "print(split_result2)\n",
    "start_value2 = split_result2[0]\n",
    "end_value2 = split_result2[1]\n",
    "\n",
    "start_value2 = float(start_value2)\n",
    "end_value2 = float(end_value2)\n",
    "\n",
    "if start_value2.is_integer() and start_value2 > 0:\n",
    "    start_value2 -= 0.4\n",
    "if end_value2.is_integer() and end_value2 > 0:\n",
    "    end_value2 -= 0.4\n",
    "    \n",
    "start_value2=int(start_value2)+1\n",
    "end_value2=int(end_value2)+1"
   ]
  },
  {
   "cell_type": "code",
   "execution_count": 92,
   "id": "9ae3162a",
   "metadata": {},
   "outputs": [],
   "source": [
    "df=pd.read_csv(f'{matchid}.csv')\n",
    "# mask1 = (df['innings'==1])& (df['over'] >= start_value1) & (df['over'] <= end_value1)\n",
    "# mask = df['over'].between(1, 6)\n",
    "# # Set the values in the 'pp' column to 1 where the mask is True\n",
    "df['powerplay'] = 0\n",
    "\n",
    "# Set 'pp' column to 1 where innings is 1 and over falls between start and end (inclusive)\n",
    "df.loc[(df['innings'] == 1) & (df['over'].between(start_value1, end_value1, inclusive='both')), 'powerplay'] = 1\n",
    "df.loc[(df['innings'] == 2) & (df['over'].between(start_value2, end_value2, inclusive='both')), 'powerplay'] = 1\n",
    "\n",
    "# Display the DataFrame\n",
    "df.to_csv(f'{matchid}.csv', index= False)"
   ]
  },
  {
   "cell_type": "code",
   "execution_count": null,
   "id": "6bd50152",
   "metadata": {},
   "outputs": [],
   "source": []
  }
 ],
 "metadata": {
  "kernelspec": {
   "display_name": "Python 3 (ipykernel)",
   "language": "python",
   "name": "python3"
  },
  "language_info": {
   "codemirror_mode": {
    "name": "ipython",
    "version": 3
   },
   "file_extension": ".py",
   "mimetype": "text/x-python",
   "name": "python",
   "nbconvert_exporter": "python",
   "pygments_lexer": "ipython3",
   "version": "3.9.7"
  }
 },
 "nbformat": 4,
 "nbformat_minor": 5
}
